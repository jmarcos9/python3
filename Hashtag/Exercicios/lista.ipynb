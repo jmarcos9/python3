{
 "cells": [
  {
   "cell_type": "code",
   "execution_count": 118,
   "metadata": {},
   "outputs": [],
   "source": [
    "produtos = ['tv', 'celula', 'mouse','teclado', 'tablet']"
   ]
  },
  {
   "cell_type": "code",
   "execution_count": 2,
   "metadata": {},
   "outputs": [
    {
     "name": "stdout",
     "output_type": "stream",
     "text": [
      "['tv', 'celula', 'mouse', 'teclado', 'tablet']\n"
     ]
    }
   ],
   "source": [
    "print(produtos)"
   ]
  },
  {
   "cell_type": "code",
   "execution_count": 20,
   "metadata": {},
   "outputs": [],
   "source": [
    "vendas = [1000,1500,350,270,900]"
   ]
  },
  {
   "cell_type": "code",
   "execution_count": 7,
   "metadata": {},
   "outputs": [
    {
     "name": "stdout",
     "output_type": "stream",
     "text": [
      "tv\n"
     ]
    }
   ],
   "source": [
    "print(produtos[0])"
   ]
  },
  {
   "cell_type": "code",
   "execution_count": 23,
   "metadata": {},
   "outputs": [],
   "source": [
    "estoque = [100,250,300,450,800]"
   ]
  },
  {
   "cell_type": "code",
   "execution_count": 22,
   "metadata": {},
   "outputs": [
    {
     "name": "stdout",
     "output_type": "stream",
     "text": [
      "vendas do produto teclado foram de 1000 unidades\n"
     ]
    }
   ],
   "source": [
    "#modificando valor\n",
    "vendas[3] = 1000 \n",
    "print('vendas do produto {} foram de {} unidades'.format(produtos[3], vendas[3]))"
   ]
  },
  {
   "cell_type": "code",
   "execution_count": 36,
   "metadata": {},
   "outputs": [
    {
     "name": "stdout",
     "output_type": "stream",
     "text": [
      "teclado\n",
      "450\n"
     ]
    }
   ],
   "source": [
    "#localizar item em uma lista - cria vairiavel e atribui a lista com seu index\n",
    "i = produtos.index('teclado')\n",
    "qtde_estoque = estoque[i]\n",
    "\n",
    "print(produtos[i])\n",
    "print(qtde_estoque)"
   ]
  },
  {
   "cell_type": "code",
   "execution_count": 46,
   "metadata": {},
   "outputs": [
    {
     "name": "stdout",
     "output_type": "stream",
     "text": [
      "Insira o nome do produto: tablet\n",
      "Temos 800 unidades do produto tablet\n"
     ]
    }
   ],
   "source": [
    "pesq_prod = input('Insira o nome do produto: ')\n",
    "if pesq_prod in produtos:\n",
    "    i = produtos.index(pesq_prod)\n",
    "    qtde_estoque = estoque[i]\n",
    "    print('Temos {} unidades do produto {}'.format(qtde_estoque, pesq_prod))\n",
    "else:\n",
    "    print('Produto {} não existe'.format(pesq_prod))"
   ]
  },
  {
   "cell_type": "code",
   "execution_count": 49,
   "metadata": {},
   "outputs": [],
   "source": [
    "def pes_prod(produto):\n",
    "    if produto in produtos:\n",
    "        i = produtos.index(produto)\n",
    "        qtd_est = estoque[i]\n",
    "        print('Temos {} unidades do produto {}'.format(qtd_est, produto))\n",
    "    else:\n",
    "        print('Produto {} não existe'.format(produto))\n",
    "        \n",
    "        "
   ]
  },
  {
   "cell_type": "code",
   "execution_count": 50,
   "metadata": {},
   "outputs": [
    {
     "name": "stdout",
     "output_type": "stream",
     "text": [
      "Insira o nome do produto: tablet\n",
      "Temos 800 unidades do produto tablet\n"
     ]
    }
   ],
   "source": [
    "pes_prod(input('Insira o nome do produto: '))"
   ]
  },
  {
   "cell_type": "code",
   "execution_count": 75,
   "metadata": {},
   "outputs": [],
   "source": [
    "#add item lista\n",
    "produtos.append('iphone')\n",
    "vendas.append(1000)\n",
    "estoque.append(500)\n",
    "\n",
    "\n"
   ]
  },
  {
   "cell_type": "code",
   "execution_count": 76,
   "metadata": {},
   "outputs": [
    {
     "name": "stdout",
     "output_type": "stream",
     "text": [
      "['tv', 'celula', 'mouse', 'teclado', 'tablet', 'mac', 'iphone'] \n",
      " [1000, 1500, 350, 1000, 900, 100, 1000] \n",
      " [100, 250, 300, 450, 800, 50, 500]\n"
     ]
    }
   ],
   "source": [
    "print(produtos,'\\n', vendas,'\\n', estoque)"
   ]
  },
  {
   "cell_type": "code",
   "execution_count": 101,
   "metadata": {},
   "outputs": [
    {
     "name": "stdout",
     "output_type": "stream",
     "text": [
      "7\n",
      "['tv', 'celula', 'mouse', 'teclado', 'tablet', 'mac', 'iphone', 'monitor']\n"
     ]
    }
   ],
   "source": [
    "produtos.append('monitor')\n",
    "i = produtos.index('monitor')\n",
    "print(i)\n",
    "print(produtos)"
   ]
  },
  {
   "cell_type": "code",
   "execution_count": 112,
   "metadata": {},
   "outputs": [
    {
     "name": "stdout",
     "output_type": "stream",
     "text": [
      "Poduto teclado não existe\n"
     ]
    }
   ],
   "source": [
    "#remove faz remoção do item ref nome informado\n",
    "rem = 'teclado'\n",
    "if rem in produtos:\n",
    "    produtos.remove(rem)\n",
    "    print('Produto {} removido'.format(rem))\n",
    "else:\n",
    "    print('Poduto {} não existe'.format(rem))\n"
   ]
  },
  {
   "cell_type": "code",
   "execution_count": 113,
   "metadata": {},
   "outputs": [
    {
     "name": "stdout",
     "output_type": "stream",
     "text": [
      "['mouse', 'tablet', 'mac', 'iphone']\n",
      "o item removido foi mouse\n"
     ]
    }
   ],
   "source": [
    "#pop remove o item e possibilita salvar o item removido em uma variável... deve informar o indice do item\n",
    "print(produtos)\n",
    "try:\n",
    "    item_removido = produtos.pop(0)\n",
    "    print('o item removido foi {}'.format(item_removido))\n",
    "except:\n",
    "        print('Poduto não existe')"
   ]
  },
  {
   "cell_type": "code",
   "execution_count": 114,
   "metadata": {},
   "outputs": [
    {
     "name": "stdout",
     "output_type": "stream",
     "text": [
      "mouse\n"
     ]
    }
   ],
   "source": [
    "print(item_removido)"
   ]
  },
  {
   "cell_type": "code",
   "execution_count": 120,
   "metadata": {},
   "outputs": [
    {
     "name": "stdout",
     "output_type": "stream",
     "text": [
      "5\n",
      "['tv', 'celula', 'mouse', 'teclado', 'tablet']\n"
     ]
    }
   ],
   "source": [
    "#funçoes basicas de lista\n",
    "#tamanho lista\n",
    "tamanho = len(produtos)\n",
    "print(tamanho)\n",
    "print(produtos)"
   ]
  },
  {
   "cell_type": "code",
   "execution_count": 146,
   "metadata": {},
   "outputs": [
    {
     "name": "stdout",
     "output_type": "stream",
     "text": [
      "800 \n",
      " 100\n"
     ]
    }
   ],
   "source": [
    "#maior e menor valor\n",
    "est_maior = max(estoque)\n",
    "est_menor = min(estoque)\n",
    "print(est_maior,'\\n', est_menor)"
   ]
  },
  {
   "cell_type": "code",
   "execution_count": 153,
   "metadata": {},
   "outputs": [
    {
     "name": "stdout",
     "output_type": "stream",
     "text": [
      "4\n",
      "0\n"
     ]
    }
   ],
   "source": [
    "prod_max_estoque = estoque.index(est_maior)\n",
    "prod_min_estoque = estoque.index(est_menor)\n",
    "print(prod_max_estoque)\n",
    "print(prod_min_estoque)"
   ]
  },
  {
   "cell_type": "code",
   "execution_count": 152,
   "metadata": {},
   "outputs": [
    {
     "name": "stdout",
     "output_type": "stream",
     "text": [
      "tablet\n",
      "tv\n"
     ]
    }
   ],
   "source": [
    "print(produtos[prod_max_estoque])\n",
    "print(produtos[prod_min_estoque])"
   ]
  },
  {
   "cell_type": "code",
   "execution_count": 154,
   "metadata": {},
   "outputs": [
    {
     "name": "stdout",
     "output_type": "stream",
     "text": [
      "['tv', 'celula', 'mouse', 'teclado', 'tablet'] \n",
      " [1000, 1500, 350, 1000, 900] \n",
      " [100, 250, 300, 450, 800]\n"
     ]
    }
   ],
   "source": [
    "print(produtos,'\\n', vendas,'\\n', estoque)"
   ]
  },
  {
   "cell_type": "code",
   "execution_count": null,
   "metadata": {},
   "outputs": [],
   "source": []
  },
  {
   "cell_type": "code",
   "execution_count": null,
   "metadata": {},
   "outputs": [],
   "source": [
    "#juntar listas, ordenar e cuidados especiais"
   ]
  },
  {
   "cell_type": "code",
   "execution_count": 155,
   "metadata": {},
   "outputs": [],
   "source": [
    "novos_produtos = ['ipad','apple watch', 'airpods']"
   ]
  },
  {
   "cell_type": "code",
   "execution_count": 158,
   "metadata": {},
   "outputs": [],
   "source": [
    "#mantem as listas orifinal pois é criado uma nova lista\n",
    "todos_prod = produtos+novos_produtos\n"
   ]
  },
  {
   "cell_type": "code",
   "execution_count": 159,
   "metadata": {},
   "outputs": [
    {
     "name": "stdout",
     "output_type": "stream",
     "text": [
      "['tv', 'celula', 'mouse', 'teclado', 'tablet', 'ipad', 'apple watch', 'airpods']\n"
     ]
    }
   ],
   "source": [
    "print(produtos)"
   ]
  },
  {
   "cell_type": "code",
   "execution_count": 160,
   "metadata": {},
   "outputs": [],
   "source": [
    "#não mantem a lista original\n",
    "produtos.extend(novos_produtos)"
   ]
  },
  {
   "cell_type": "code",
   "execution_count": 161,
   "metadata": {},
   "outputs": [
    {
     "name": "stdout",
     "output_type": "stream",
     "text": [
      "2500\n"
     ]
    }
   ],
   "source": [
    "#soma valores lista\n",
    "total_vendas = vendas[0]+vendas[1]\n",
    "print(total_vendas)"
   ]
  },
  {
   "cell_type": "code",
   "execution_count": 168,
   "metadata": {},
   "outputs": [
    {
     "name": "stdout",
     "output_type": "stream",
     "text": [
      "['tv', 'teclado', 'tablet', 'mouse', 'ipad', 'ipad', 'celula', 'apple watch', 'apple watch', 'airpods', 'airpods']\n"
     ]
    }
   ],
   "source": [
    "#ordenar lista\n",
    "produtos.sort(reverse=True)\n",
    "print(produtos)"
   ]
  },
  {
   "cell_type": "code",
   "execution_count": 173,
   "metadata": {},
   "outputs": [
    {
     "name": "stdout",
     "output_type": "stream",
     "text": [
      "['tv', 'teclado', 'tablet', 'mouse', 'ipad', 'ipad', 'celula', 'apple watch', 'apple watch', 'airpods', 'airpods']\n",
      "tv\n",
      "teclado\n",
      "tablet\n",
      "mouse\n",
      "ipad\n",
      "ipad\n",
      "celula\n",
      "apple watch\n",
      "apple watch\n",
      "airpods\n",
      "airpods\n"
     ]
    }
   ],
   "source": [
    "#formas prints\n",
    "print(produtos)\n",
    "print('\\n'.join(produtos))"
   ]
  },
  {
   "cell_type": "code",
   "execution_count": 176,
   "metadata": {},
   "outputs": [
    {
     "name": "stdout",
     "output_type": "stream",
     "text": [
      "['casa', 'carro', 'aviao', 'taxi']\n"
     ]
    }
   ],
   "source": [
    "#criando uma lista apartir de uma string - lembrar de colocar , + espaço para organizar a lista\n",
    "prod_string = ('casa, carro, aviao, taxi')\n",
    "lista_prod = prod_string.split(', ')\n",
    "\n",
    "print(lista_prod)"
   ]
  },
  {
   "cell_type": "code",
   "execution_count": 238,
   "metadata": {},
   "outputs": [],
   "source": [
    "#Exercicios\n",
    "meses = ['jan','fev','mar','abr','mai','jun','jul','ago','set','out','nov','dez']\n",
    "vendas_1 = [2500, 300, 450, 1523, 8000, 7200]\n",
    "vendas_2 = [4500, 385, 294, 333, 458, 1258] "
   ]
  },
  {
   "cell_type": "code",
   "execution_count": 239,
   "metadata": {},
   "outputs": [
    {
     "name": "stdout",
     "output_type": "stream",
     "text": [
      "[2500, 300, 450, 1523, 8000, 7200, 4500, 385, 294, 333, 458, 1258]\n"
     ]
    }
   ],
   "source": [
    "vendas_1.extend(vendas_2)\n",
    "print(vendas_1)"
   ]
  },
  {
   "cell_type": "code",
   "execution_count": 246,
   "metadata": {},
   "outputs": [],
   "source": [
    "max_venda = max(vendas_1)\n",
    "min_venda = min(vendas_1)"
   ]
  },
  {
   "cell_type": "code",
   "execution_count": 247,
   "metadata": {},
   "outputs": [
    {
     "name": "stdout",
     "output_type": "stream",
     "text": [
      "4\n",
      "6\n"
     ]
    }
   ],
   "source": [
    "i_maior_venda = vendas_1.index(max_venda)\n",
    "i_menor_venda = vendas_1.index(min_venda)\n",
    "print(i_maior_venda)\n",
    "print(i_menor_venda)\n"
   ]
  },
  {
   "cell_type": "code",
   "execution_count": 215,
   "metadata": {},
   "outputs": [
    {
     "name": "stdout",
     "output_type": "stream",
     "text": [
      "mai foi o mês com maior venda R$ 8000.00\n",
      "set foi o mês com menor venda R$ 294.00\n",
      "Total de vendas no ano R$ 27201.00\n",
      "O melhor mês representou 29.41% do faturamento do ano\n"
     ]
    }
   ],
   "source": [
    "print('{} foi o mês com maior venda R$ {:.2f}'.format(meses[i_maior_venda], max_venda))\n",
    "print('{} foi o mês com menor venda R$ {:.2f}'.format(meses[i_menor_venda], min_venda))\n",
    "total_vendas = sum(vendas_1)\n",
    "print('Total de vendas no ano R$ {:.2f}'.format(total_vendas))\n",
    "percentual = max_venda / total_vendas\n",
    "print('O melhor mês representou {:.2%} do faturamento do ano'.format(percentual))"
   ]
  },
  {
   "cell_type": "code",
   "execution_count": 216,
   "metadata": {},
   "outputs": [
    {
     "name": "stdout",
     "output_type": "stream",
     "text": [
      "[2500, 300, 450, 1523, 8000, 7200, 4500, 385, 294, 333, 458, 1258]\n"
     ]
    }
   ],
   "source": [
    "print(vendas_1)"
   ]
  },
  {
   "cell_type": "code",
   "execution_count": 242,
   "metadata": {},
   "outputs": [
    {
     "name": "stdout",
     "output_type": "stream",
     "text": [
      "[8000]\n",
      "[2500, 300, 450, 1523, 7200, 4500, 385, 294, 333, 458, 1258]\n"
     ]
    }
   ],
   "source": [
    "# para descobrir o top 3 tive que rodar o max armazenar em uma variavel e rodar mais das vezes o max venda\n",
    "top3_1 = []\n",
    "top3_1.append(max_venda)\n",
    "print(top3_1)\n",
    "vendas_1.remove(max_venda)\n",
    "print(vendas_1)"
   ]
  },
  {
   "cell_type": "code",
   "execution_count": 245,
   "metadata": {},
   "outputs": [
    {
     "name": "stdout",
     "output_type": "stream",
     "text": [
      "[8000, 7200]\n",
      "[2500, 300, 450, 1523, 4500, 385, 294, 333, 458, 1258]\n"
     ]
    }
   ],
   "source": [
    "\n",
    "top3_1.append(max_venda)\n",
    "print(top3_1)\n",
    "vendas_1.remove(max_venda)\n",
    "print(vendas_1)"
   ]
  },
  {
   "cell_type": "code",
   "execution_count": 248,
   "metadata": {},
   "outputs": [
    {
     "name": "stdout",
     "output_type": "stream",
     "text": [
      "[8000, 7200, 4500]\n",
      "[2500, 300, 450, 1523, 385, 294, 333, 458, 1258]\n"
     ]
    }
   ],
   "source": [
    "top3_1.append(max_venda)\n",
    "print(top3_1)\n",
    "vendas_1.remove(max_venda)\n",
    "print(vendas_1)"
   ]
  },
  {
   "cell_type": "code",
   "execution_count": 249,
   "metadata": {},
   "outputs": [
    {
     "name": "stdout",
     "output_type": "stream",
     "text": [
      "Top 3 de vendas [8000, 7200, 4500]\n"
     ]
    }
   ],
   "source": [
    "print('Top 3 de vendas {}'.format(top3_1))"
   ]
  },
  {
   "cell_type": "code",
   "execution_count": null,
   "metadata": {},
   "outputs": [],
   "source": []
  }
 ],
 "metadata": {
  "kernelspec": {
   "display_name": "Python 3",
   "language": "python",
   "name": "python3"
  },
  "language_info": {
   "codemirror_mode": {
    "name": "ipython",
    "version": 3
   },
   "file_extension": ".py",
   "mimetype": "text/x-python",
   "name": "python",
   "nbconvert_exporter": "python",
   "pygments_lexer": "ipython3",
   "version": "3.8.5"
  }
 },
 "nbformat": 4,
 "nbformat_minor": 4
}
