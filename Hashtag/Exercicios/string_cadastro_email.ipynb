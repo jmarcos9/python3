{
 "cells": [
  {
   "cell_type": "code",
   "execution_count": null,
   "metadata": {},
   "outputs": [],
   "source": [
    "\n",
    "#verificar se nome e email foram preenchidos\n",
    "while(True):\n",
    "    nome = input('Digite seu nome: ')\n",
    "    email = input('Digite seu E-mail: ')\n",
    "    if nome and email:\n",
    "        pos_a = email.find('@')\n",
    "        checar_ponto = email[pos_a:]    \n",
    "        if pos_a != -1 and '.' in checar_ponto:\n",
    "            print('Cadastro Concluído')\n",
    "            break\n",
    "        else:\n",
    "            print('Email Iválido')\n",
    "    else:\n",
    "        print('Digite seu nome e email corretamente')\n",
    "        \n"
   ]
  },
  {
   "cell_type": "code",
   "execution_count": null,
   "metadata": {},
   "outputs": [],
   "source": []
  },
  {
   "cell_type": "code",
   "execution_count": null,
   "metadata": {},
   "outputs": [],
   "source": []
  },
  {
   "cell_type": "code",
   "execution_count": null,
   "metadata": {},
   "outputs": [],
   "source": []
  },
  {
   "cell_type": "code",
   "execution_count": null,
   "metadata": {},
   "outputs": [],
   "source": []
  }
 ],
 "metadata": {
  "kernelspec": {
   "display_name": "Python 3",
   "language": "python",
   "name": "python3"
  },
  "language_info": {
   "codemirror_mode": {
    "name": "ipython",
    "version": 3
   },
   "file_extension": ".py",
   "mimetype": "text/x-python",
   "name": "python",
   "nbconvert_exporter": "python",
   "pygments_lexer": "ipython3",
   "version": "3.8.5"
  }
 },
 "nbformat": 4,
 "nbformat_minor": 4
}
