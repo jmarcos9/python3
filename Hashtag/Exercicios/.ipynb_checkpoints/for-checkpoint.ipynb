{
 "cells": [
  {
   "cell_type": "code",
   "execution_count": 5,
   "metadata": {},
   "outputs": [
    {
     "name": "stdout",
     "output_type": "stream",
     "text": [
      "0\n",
      "2\n",
      "4\n",
      "6\n",
      "8\n"
     ]
    }
   ],
   "source": [
    "for i in range(5):\n",
    "    print(i*2)\n",
    "    "
   ]
  },
  {
   "cell_type": "code",
   "execution_count": 10,
   "metadata": {},
   "outputs": [
    {
     "name": "stdout",
     "output_type": "stream",
     "text": [
      "15000 unidades produzidas de coca\n",
      "12000 unidades produzidas de pepsi\n",
      "13000 unidades produzidas de guarana\n",
      "5000 unidades produzidas de sprit\n",
      "250 unidades produzidas de fanta\n"
     ]
    }
   ],
   "source": [
    "produtos = ['coca', 'pepsi', 'guarana', 'sprit', 'fanta']\n",
    "producao = [15000,12000,13000, 5000, 250]\n",
    "tamanho = len(produtos)\n",
    "for i in range (tamanho):\n",
    "    print('{} unidades produzidas de {}'.format(producao[i], produtos[i]))"
   ]
  },
  {
   "cell_type": "code",
   "execution_count": 17,
   "metadata": {},
   "outputs": [
    {
     "name": "stdout",
     "output_type": "stream",
     "text": [
      "coca\n",
      "pepsi\n",
      "guarana\n",
      "sprit\n",
      "fanta\n"
     ]
    }
   ],
   "source": [
    "for item in produtos:\n",
    "    print(item)\n"
   ]
  },
  {
   "cell_type": "code",
   "execution_count": 19,
   "metadata": {},
   "outputs": [
    {
     "name": "stdout",
     "output_type": "stream",
     "text": [
      "j\n",
      "m\n",
      "a\n",
      "r\n",
      "c\n",
      "o\n",
      "s\n"
     ]
    }
   ],
   "source": [
    "texto = 'jmarcos'\n",
    "for ch in texto:\n",
    "    print(ch)"
   ]
  },
  {
   "cell_type": "code",
   "execution_count": 33,
   "metadata": {},
   "outputs": [
    {
     "name": "stdout",
     "output_type": "stream",
     "text": [
      "53%\n"
     ]
    }
   ],
   "source": [
    "vendas=[1000, 350, 200,8000,4500,3850, 950,358,750,450,6586,2225,58654,55,5550]\n",
    "meta = 1000\n",
    "cont = 0\n",
    "for item in vendas:\n",
    "    if item >= meta:\n",
    "        cont += 1\n",
    "        \n",
    "n_funcionarios = len(vendas)\n",
    "percentual = cont / n_funcionarios\n",
    "print('{:.0%}'.format(percentual))\n"
   ]
  },
  {
   "cell_type": "code",
   "execution_count": 34,
   "metadata": {},
   "outputs": [],
   "source": [
    "funcionarios = ['matheus','paulo','pedro','lucas','thiago','joao','judas','barnaber','maria','jose','timoteo']"
   ]
  },
  {
   "cell_type": "code",
   "execution_count": 35,
   "metadata": {},
   "outputs": [
    {
     "name": "stdout",
     "output_type": "stream",
     "text": [
      "0 matheus\n",
      "1 paulo\n",
      "2 pedro\n",
      "3 lucas\n",
      "4 thiago\n",
      "5 joao\n",
      "6 judas\n",
      "7 barnaber\n",
      "8 maria\n",
      "9 jose\n",
      "10 timoteo\n"
     ]
    }
   ],
   "source": [
    "for i, item in enumerate(funcionarios):\n",
    "    print(i, item)"
   ]
  },
  {
   "cell_type": "code",
   "execution_count": 1,
   "metadata": {},
   "outputs": [],
   "source": [
    "produtos = ['pão','cafe','acucar','leite','biscoito','sabao','luva','cloro','masraca','manteiga']\n",
    "estoque = [100, 225,235,90,50,45,32,70,250, 800]\n"
   ]
  },
  {
   "cell_type": "code",
   "execution_count": 2,
   "metadata": {},
   "outputs": [
    {
     "name": "stdout",
     "output_type": "stream",
     "text": [
      "biscoito 50\n",
      "sabao 45\n",
      "luva 32\n"
     ]
    }
   ],
   "source": [
    "for i, qtde in enumerate(estoque):\n",
    "    if qtde <= 50:\n",
    "        print('{} {}'.format(produtos[i], qtde))"
   ]
  },
  {
   "cell_type": "code",
   "execution_count": null,
   "metadata": {},
   "outputs": [],
   "source": []
  }
 ],
 "metadata": {
  "kernelspec": {
   "display_name": "Python 3",
   "language": "python",
   "name": "python3"
  },
  "language_info": {
   "codemirror_mode": {
    "name": "ipython",
    "version": 3
   },
   "file_extension": ".py",
   "mimetype": "text/x-python",
   "name": "python",
   "nbconvert_exporter": "python",
   "pygments_lexer": "ipython3",
   "version": "3.8.5"
  }
 },
 "nbformat": 4,
 "nbformat_minor": 4
}
