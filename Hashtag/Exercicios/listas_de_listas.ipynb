{
 "cells": [
  {
   "cell_type": "code",
   "execution_count": 1,
   "metadata": {},
   "outputs": [],
   "source": [
    "vendedores = ['marcos','joao','paulo','igor']\n",
    "produdos = ['ipda','iphone']\n",
    "vendas = [\n",
    "    [100,200],\n",
    "    [300,455],\n",
    "    [500,200],\n",
    "    [350,420]\n",
    "]\n"
   ]
  },
  {
   "cell_type": "code",
   "execution_count": 10,
   "metadata": {},
   "outputs": [
    {
     "name": "stdout",
     "output_type": "stream",
     "text": [
      "300\n"
     ]
    }
   ],
   "source": [
    "#vendas ipad joao\n",
    "vendas_joao_ipad = vendas[1][0]\n",
    "print(vendas_joao_ipad)\n"
   ]
  },
  {
   "cell_type": "code",
   "execution_count": 3,
   "metadata": {},
   "outputs": [
    {
     "name": "stdout",
     "output_type": "stream",
     "text": [
      "420\n"
     ]
    }
   ],
   "source": [
    "vendas_igor_iphone = vendas[3][1]\n",
    "print(vendas_igor_iphone)"
   ]
  },
  {
   "cell_type": "code",
   "execution_count": 11,
   "metadata": {},
   "outputs": [
    {
     "name": "stdout",
     "output_type": "stream",
     "text": [
      "1125.00\n"
     ]
    }
   ],
   "source": [
    "vendas_total_iphone = vendas[0][1]+vendas[1][1]+vendas[2][1]+vendas[3][1]\n",
    "print('{:.2f}'.format(vendas_total_iphone))"
   ]
  },
  {
   "cell_type": "code",
   "execution_count": 5,
   "metadata": {},
   "outputs": [],
   "source": [
    "#modificando item\n",
    "vendas[0][1] = 50"
   ]
  },
  {
   "cell_type": "code",
   "execution_count": 6,
   "metadata": {},
   "outputs": [
    {
     "name": "stdout",
     "output_type": "stream",
     "text": [
      "[[100, 50], [300, 455], [500, 200], [350, 420]]\n"
     ]
    }
   ],
   "source": [
    "print(vendas)"
   ]
  },
  {
   "cell_type": "code",
   "execution_count": 7,
   "metadata": {},
   "outputs": [
    {
     "name": "stdout",
     "output_type": "stream",
     "text": [
      "[[100, 50, 10], [300, 455, 25], [500, 200, 30], [350, 420, 40]]\n"
     ]
    }
   ],
   "source": [
    "#add item e venda\n",
    "vendas_mac = [10,25,30,40]\n",
    "\n",
    "vendas[0].append(vendas_mac[0])\n",
    "vendas[1].append(vendas_mac[1])\n",
    "vendas[2].append(vendas_mac[2])\n",
    "vendas[3].append(vendas_mac[3])\n",
    "print(vendas)"
   ]
  },
  {
   "cell_type": "code",
   "execution_count": 8,
   "metadata": {},
   "outputs": [
    {
     "name": "stdout",
     "output_type": "stream",
     "text": [
      "['ipda', 'iphone', 'iplle tv']\n"
     ]
    }
   ],
   "source": [
    "#add produto\n",
    "produdos.append('iplle tv')\n",
    "print(produdos)"
   ]
  },
  {
   "cell_type": "code",
   "execution_count": null,
   "metadata": {},
   "outputs": [],
   "source": []
  }
 ],
 "metadata": {
  "kernelspec": {
   "display_name": "Python 3",
   "language": "python",
   "name": "python3"
  },
  "language_info": {
   "codemirror_mode": {
    "name": "ipython",
    "version": 3
   },
   "file_extension": ".py",
   "mimetype": "text/x-python",
   "name": "python",
   "nbconvert_exporter": "python",
   "pygments_lexer": "ipython3",
   "version": "3.8.5"
  }
 },
 "nbformat": 4,
 "nbformat_minor": 4
}
