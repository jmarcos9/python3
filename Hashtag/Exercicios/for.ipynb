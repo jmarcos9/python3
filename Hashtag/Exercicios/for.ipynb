{
 "cells": [
  {
   "cell_type": "code",
   "execution_count": 5,
   "metadata": {},
   "outputs": [
    {
     "name": "stdout",
     "output_type": "stream",
     "text": [
      "0\n",
      "2\n",
      "4\n",
      "6\n",
      "8\n"
     ]
    }
   ],
   "source": [
    "for i in range(5):\n",
    "    print(i*2)\n",
    "    "
   ]
  },
  {
   "cell_type": "code",
   "execution_count": 10,
   "metadata": {},
   "outputs": [
    {
     "name": "stdout",
     "output_type": "stream",
     "text": [
      "15000 unidades produzidas de coca\n",
      "12000 unidades produzidas de pepsi\n",
      "13000 unidades produzidas de guarana\n",
      "5000 unidades produzidas de sprit\n",
      "250 unidades produzidas de fanta\n"
     ]
    }
   ],
   "source": [
    "produtos = ['coca', 'pepsi', 'guarana', 'sprit', 'fanta']\n",
    "producao = [15000,12000,13000, 5000, 250]\n",
    "tamanho = len(produtos)\n",
    "for i in range (tamanho):\n",
    "    print('{} unidades produzidas de {}'.format(producao[i], produtos[i]))"
   ]
  },
  {
   "cell_type": "code",
   "execution_count": 17,
   "metadata": {},
   "outputs": [
    {
     "name": "stdout",
     "output_type": "stream",
     "text": [
      "coca\n",
      "pepsi\n",
      "guarana\n",
      "sprit\n",
      "fanta\n"
     ]
    }
   ],
   "source": [
    "for item in produtos:\n",
    "    print(item)\n"
   ]
  },
  {
   "cell_type": "code",
   "execution_count": 19,
   "metadata": {},
   "outputs": [
    {
     "name": "stdout",
     "output_type": "stream",
     "text": [
      "j\n",
      "m\n",
      "a\n",
      "r\n",
      "c\n",
      "o\n",
      "s\n"
     ]
    }
   ],
   "source": [
    "texto = 'jmarcos'\n",
    "for ch in texto:\n",
    "    print(ch)"
   ]
  },
  {
   "cell_type": "code",
   "execution_count": 33,
   "metadata": {},
   "outputs": [
    {
     "name": "stdout",
     "output_type": "stream",
     "text": [
      "53%\n"
     ]
    }
   ],
   "source": [
    "vendas=[1000, 350, 200,8000,4500,3850, 950,358,750,450,6586,2225,58654,55,5550]\n",
    "meta = 1000\n",
    "cont = 0\n",
    "for item in vendas:\n",
    "    if item >= meta:\n",
    "        cont += 1\n",
    "        \n",
    "n_funcionarios = len(vendas)\n",
    "percentual = cont / n_funcionarios\n",
    "print('{:.0%}'.format(percentual))\n"
   ]
  },
  {
   "cell_type": "code",
   "execution_count": 34,
   "metadata": {},
   "outputs": [],
   "source": [
    "funcionarios = ['matheus','paulo','pedro','lucas','thiago','joao','judas','barnaber','maria','jose','timoteo']"
   ]
  },
  {
   "cell_type": "code",
   "execution_count": 35,
   "metadata": {},
   "outputs": [
    {
     "name": "stdout",
     "output_type": "stream",
     "text": [
      "0 matheus\n",
      "1 paulo\n",
      "2 pedro\n",
      "3 lucas\n",
      "4 thiago\n",
      "5 joao\n",
      "6 judas\n",
      "7 barnaber\n",
      "8 maria\n",
      "9 jose\n",
      "10 timoteo\n"
     ]
    }
   ],
   "source": [
    "for i, item in enumerate(funcionarios):\n",
    "    print(i, item)"
   ]
  },
  {
   "cell_type": "code",
   "execution_count": 1,
   "metadata": {},
   "outputs": [],
   "source": [
    "produtos = ['pão','cafe','acucar','leite','biscoito','sabao','luva','cloro','masraca','manteiga']\n",
    "estoque = [100, 225,235,90,50,45,32,70,250, 800]\n"
   ]
  },
  {
   "cell_type": "code",
   "execution_count": 2,
   "metadata": {},
   "outputs": [
    {
     "name": "stdout",
     "output_type": "stream",
     "text": [
      "biscoito 50\n",
      "sabao 45\n",
      "luva 32\n"
     ]
    }
   ],
   "source": [
    "for i, qtde in enumerate(estoque):\n",
    "    if qtde <= 50:\n",
    "        print('{} {}'.format(produtos[i], qtde))"
   ]
  },
  {
   "cell_type": "code",
   "execution_count": 5,
   "metadata": {},
   "outputs": [
    {
     "name": "stdout",
     "output_type": "stream",
     "text": [
      "Informe números de pessoas: 2\n",
      "Informe o nome: marcos\n",
      "Informe o CPF: 1111\n",
      "Informe o nome: luc\n",
      "Informe o CPF: 222\n",
      "[['marcos', '1111'], ['luc', '222']]\n"
     ]
    }
   ],
   "source": [
    "qtde_pessoas = int(input('Informe números de pessoas: '))\n",
    "quarto = []\n",
    "for i in range(qtde_pessoas):\n",
    "    nome = input('Informe o nome: ')\n",
    "    cpf = input('Informe o CPF: ')\n",
    "    hospede = [nome, cpf]\n",
    "    quarto.append(hospede)\n",
    "    \n",
    "print(quarto)"
   ]
  },
  {
   "cell_type": "code",
   "execution_count": 17,
   "metadata": {},
   "outputs": [],
   "source": [
    "def hotel(qtde_pessoas):    \n",
    "    quarto = []\n",
    "    for i in range(qtde_pessoas):\n",
    "        nome = input('Informe o nome: ')\n",
    "        cpf = input('Informe o CPF: ')\n",
    "        hospede = [nome, cpf]\n",
    "        quarto.append(hospede)    \n",
    "    return(quarto)"
   ]
  },
  {
   "cell_type": "code",
   "execution_count": 19,
   "metadata": {},
   "outputs": [
    {
     "name": "stdout",
     "output_type": "stream",
     "text": [
      "Informe números de pessoas: 2\n",
      "Informe o nome: a\n",
      "Informe o CPF: a\n",
      "Informe o nome: b\n",
      "Informe o CPF: b\n"
     ]
    },
    {
     "data": {
      "text/plain": [
       "[['a', 'a'], ['b', 'b']]"
      ]
     },
     "execution_count": 19,
     "metadata": {},
     "output_type": "execute_result"
    }
   ],
   "source": [
    "hotel(int(input('Informe números de pessoas: ')))"
   ]
  },
  {
   "cell_type": "code",
   "execution_count": 21,
   "metadata": {},
   "outputs": [],
   "source": [
    "meta = 10000\n",
    "vendas = [\n",
    "         ['marcos', 15000],\n",
    "         ['paulo', 10000],\n",
    "         ['pedro', 12000],\n",
    "         ['pingo', 8000],\n",
    "         ['pei', 7000],\n",
    "         ['piu', 5000],\n",
    "]"
   ]
  },
  {
   "cell_type": "code",
   "execution_count": 22,
   "metadata": {},
   "outputs": [
    {
     "name": "stdout",
     "output_type": "stream",
     "text": [
      "marcos 15000\n",
      "paulo 10000\n",
      "pedro 12000\n"
     ]
    }
   ],
   "source": [
    "for item in vendas:\n",
    "    if item[1] >= meta:\n",
    "        print(item[0], item[1])"
   ]
  },
  {
   "cell_type": "code",
   "execution_count": 24,
   "metadata": {},
   "outputs": [],
   "source": [
    "produtos = ['iphone', 'galaxy', 'ipad', 'tv', 'máquina de café', 'kindle', 'geladeira', 'adega', 'notebook dell', 'notebook hp', 'notebook asus', 'microsoft surface', 'webcam', 'caixa de som', 'microfone', 'câmera canon']\n",
    "vendas2019 = [558147,712350,573823,405252,718654,531580,973139,892292,422760,154753,887061,438508,237467,489705,328311,591120]\n",
    "vendas2020 = [951642,244295,26964,787604,867660,78830,710331,646016,694913,539704,324831,667179,295633,725316,644622,994303]\n"
   ]
  },
  {
   "cell_type": "code",
   "execution_count": 41,
   "metadata": {},
   "outputs": [
    {
     "name": "stdout",
     "output_type": "stream",
     "text": [
      "iphone vendeu R$ 558,147 em 2019 e R$ 951,642 em 2020 e teve 70.5% de crescimento\n",
      "tv vendeu R$ 405,252 em 2019 e R$ 787,604 em 2020 e teve 94.3% de crescimento\n",
      "máquina de café vendeu R$ 718,654 em 2019 e R$ 867,660 em 2020 e teve 20.7% de crescimento\n",
      "notebook dell vendeu R$ 422,760 em 2019 e R$ 694,913 em 2020 e teve 64.4% de crescimento\n",
      "notebook hp vendeu R$ 154,753 em 2019 e R$ 539,704 em 2020 e teve 248.8% de crescimento\n",
      "microsoft surface vendeu R$ 438,508 em 2019 e R$ 667,179 em 2020 e teve 52.1% de crescimento\n",
      "webcam vendeu R$ 237,467 em 2019 e R$ 295,633 em 2020 e teve 24.5% de crescimento\n",
      "caixa de som vendeu R$ 489,705 em 2019 e R$ 725,316 em 2020 e teve 48.1% de crescimento\n",
      "microfone vendeu R$ 328,311 em 2019 e R$ 644,622 em 2020 e teve 96.3% de crescimento\n",
      "câmera canon vendeu R$ 591,120 em 2019 e R$ 994,303 em 2020 e teve 68.2% de crescimento\n"
     ]
    }
   ],
   "source": [
    "for i, produto in enumerate(produtos):\n",
    "    if vendas2020[i] > vendas2019[i]:\n",
    "        crescimento = vendas2020[i]/vendas2019[i] - 1        \n",
    "        print('{} vendeu R$ {:,} em 2019 e R$ {:,} em 2020 e teve {:.1%} de crescimento'.format(produtos[i], vendas2019[i], vendas2020[i], crescimento))\n",
    "    "
   ]
  },
  {
   "cell_type": "code",
   "execution_count": null,
   "metadata": {},
   "outputs": [],
   "source": []
  }
 ],
 "metadata": {
  "kernelspec": {
   "display_name": "Python 3",
   "language": "python",
   "name": "python3"
  },
  "language_info": {
   "codemirror_mode": {
    "name": "ipython",
    "version": 3
   },
   "file_extension": ".py",
   "mimetype": "text/x-python",
   "name": "python",
   "nbconvert_exporter": "python",
   "pygments_lexer": "ipython3",
   "version": "3.8.5"
  }
 },
 "nbformat": 4,
 "nbformat_minor": 4
}
