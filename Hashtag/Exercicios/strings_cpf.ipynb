{
 "cells": [
  {
   "cell_type": "code",
   "execution_count": 13,
   "metadata": {},
   "outputs": [
    {
     "name": "stdout",
     "output_type": "stream",
     "text": [
      "Digite seu CPF: 035.867.774-a2\n",
      "CPF inválido\n"
     ]
    }
   ],
   "source": [
    "cpf = input('Digite seu CPF: ')\n",
    "cpf = cpf.replace('-', '')\n",
    "cpf = cpf.replace('.', '')\n",
    "cpf = cpf.strip()\n",
    "if len(cpf) == 11 and cpf.isnumeric():\n",
    "    print(cpf)\n",
    "else:\n",
    "    print('CPF inválido')\n",
    "\n",
    "\n"
   ]
  },
  {
   "cell_type": "code",
   "execution_count": 4,
   "metadata": {},
   "outputs": [
    {
     "name": "stdout",
     "output_type": "stream",
     "text": [
      "Digite CPF: 03586777425\n",
      "CPF Inválido\n"
     ]
    }
   ],
   "source": [
    "import re\n",
    "\n",
    "def isCpfValid(cpf):\n",
    "    \"\"\" If cpf in the Brazilian format is valid, it returns True, otherwise, it returns False. \"\"\"\n",
    "\n",
    "    # Check if type is str\n",
    "    if not isinstance(cpf,str):\n",
    "        return False\n",
    "\n",
    "    # Remove some unwanted characters\n",
    "    cpf = re.sub(\"[^0-9]\",'',cpf)\n",
    "    \n",
    "    # Verify if CPF number is equal\n",
    "    if cpf=='00000000000' or cpf=='11111111111' or cpf=='22222222222' or cpf=='33333333333' or cpf=='44444444444' or cpf=='55555555555' or cpf=='66666666666' or cpf=='77777777777' or cpf=='88888888888' or cpf=='99999999999':\n",
    "        return False\n",
    "\n",
    "    # Checks if string has 11 characters\n",
    "    if len(cpf) != 11:\n",
    "        return False\n",
    "\n",
    "    sum = 0\n",
    "    weight = 10\n",
    "\n",
    "    \"\"\" Calculating the first cpf check digit. \"\"\"\n",
    "    for n in range(9):\n",
    "        sum = sum + int(cpf[n]) * weight\n",
    "\n",
    "        # Decrement weight\n",
    "        weight = weight - 1\n",
    "\n",
    "    verifyingDigit = 11 -  sum % 11\n",
    "\n",
    "    if verifyingDigit > 9 :\n",
    "        firstVerifyingDigit = 0\n",
    "    else:\n",
    "        firstVerifyingDigit = verifyingDigit\n",
    "\n",
    "    \"\"\" Calculating the second check digit of cpf. \"\"\"\n",
    "    sum = 0\n",
    "    weight = 11\n",
    "    for n in range(10):\n",
    "        sum = sum + int(cpf[n]) * weight\n",
    "\n",
    "        # Decrement weight\n",
    "        weight = weight - 1\n",
    "\n",
    "    verifyingDigit = 11 -  sum % 11\n",
    "\n",
    "    if verifyingDigit > 9 :\n",
    "        secondVerifyingDigit = 0\n",
    "    else:\n",
    "        secondVerifyingDigit = verifyingDigit\n",
    "\n",
    "    if cpf[-2:] == \"%s%s\" % (firstVerifyingDigit,secondVerifyingDigit):\n",
    "        return True\n",
    "    return 'CPF Inválido'#False\n",
    "\n",
    "\n",
    "'''def isCnpjValid(cnpj):\n",
    "    \"\"\" If cnpf in the Brazilian format is valid, it returns True, otherwise, it returns False. \"\"\"\n",
    "\n",
    "    # Check if type is str\n",
    "    if not isinstance(cnpj,str):\n",
    "        return False\n",
    "\n",
    "    # Remove some unwanted characters\n",
    "    cpf = re.sub(\"[^0-9]\",'',cnpj)\n",
    "\n",
    "    # Checks if string has 11 characters\n",
    "    if len(cpf) != 14:\n",
    "        return False\n",
    "\n",
    "    sum = 0\n",
    "    weight = [5,4,3,2,9,8,7,6,5,4,3,2]\n",
    "\n",
    "    \"\"\" Calculating the first cpf check digit. \"\"\"\n",
    "    for n in range(12):\n",
    "        value =  int(cpf[n]) * weight[n]\n",
    "        sum = sum + value\n",
    "\n",
    "\n",
    "    verifyingDigit = sum % 11\n",
    "\n",
    "    if verifyingDigit < 2 :\n",
    "        firstVerifyingDigit = 0\n",
    "    else:\n",
    "        firstVerifyingDigit = 11 - verifyingDigit\n",
    "\n",
    "    \"\"\" Calculating the second check digit of cpf. \"\"\"\n",
    "    sum = 0\n",
    "    weight = [6,5,4,3,2,9,8,7,6,5,4,3,2]\n",
    "    for n in range(13):\n",
    "        sum = sum + int(cpf[n]) * weight[n]\n",
    "\n",
    "    verifyingDigit = sum % 11\n",
    "\n",
    "    if verifyingDigit < 2 :\n",
    "        secondVerifyingDigit = 0\n",
    "    else:\n",
    "        secondVerifyingDigit = 11 - verifyingDigit\n",
    "\n",
    "    if cpf[-2:] == \"%s%s\" % (firstVerifyingDigit,secondVerifyingDigit):\n",
    "        return True\n",
    "        \n",
    "    return False\n",
    "'''\n",
    "\n",
    "\n",
    "cpf = input(\"Digite CPF: \")\n",
    "print(isCpfValid(cpf))\n",
    "\n"
   ]
  },
  {
   "cell_type": "code",
   "execution_count": 29,
   "metadata": {},
   "outputs": [
    {
     "data": {
      "text/plain": [
       "54521645413265453213265"
      ]
     },
     "execution_count": 29,
     "metadata": {},
     "output_type": "execute_result"
    }
   ],
   "source": [
    "54521645413265453213265\n"
   ]
  },
  {
   "cell_type": "code",
   "execution_count": null,
   "metadata": {},
   "outputs": [],
   "source": []
  }
 ],
 "metadata": {
  "kernelspec": {
   "display_name": "Python 3",
   "language": "python",
   "name": "python3"
  },
  "language_info": {
   "codemirror_mode": {
    "name": "ipython",
    "version": 3
   },
   "file_extension": ".py",
   "mimetype": "text/x-python",
   "name": "python",
   "nbconvert_exporter": "python",
   "pygments_lexer": "ipython3",
   "version": "3.8.5"
  }
 },
 "nbformat": 4,
 "nbformat_minor": 4
}
